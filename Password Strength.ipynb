{
 "cells": [
  {
   "cell_type": "code",
   "execution_count": 1,
   "id": "0532f02a",
   "metadata": {},
   "outputs": [],
   "source": [
    "import re\n",
    "\n",
    "def evaluate_password_strength(password):\n",
    "    score = 0\n",
    "    \n",
    "    # Length Check\n",
    "    if len(password) >= 8:\n",
    "        score += 2\n",
    "    if len(password) >= 12:\n",
    "        score += 2\n",
    "\n",
    "    # Check for uppercase letters\n",
    "    if re.search(r'[A-Z]', password):\n",
    "        score += 2\n",
    "\n",
    "    # Check for lowercase letters\n",
    "    if re.search(r'[a-z]', password):\n",
    "        score += 2\n",
    "\n",
    "    # Check for numbers\n",
    "    if re.search(r'\\d', password):\n",
    "        score += 2\n",
    "\n",
    "    # Check for symbols\n",
    "    if re.search(r'[!@#$%^&*(),.?\":{}|<>]', password):\n",
    "        score += 2\n",
    "\n",
    "    return score\n"
   ]
  },
  {
   "cell_type": "code",
   "execution_count": 2,
   "id": "2c59e3cc",
   "metadata": {},
   "outputs": [
    {
     "name": "stdout",
     "output_type": "stream",
     "text": [
      "The strength of the password 'Hello@1234' is: 10/10\n"
     ]
    }
   ],
   "source": [
    "# Example Usage:\n",
    "password = \"Hello@1234\"\n",
    "strength = evaluate_password_strength(password)\n",
    "print(f\"The strength of the password '{password}' is: {strength}/10\")"
   ]
  },
  {
   "cell_type": "code",
   "execution_count": 3,
   "id": "d3d3bf41",
   "metadata": {},
   "outputs": [
    {
     "name": "stdout",
     "output_type": "stream",
     "text": [
      "The strength of the password 'Ram12' is: 6/10\n"
     ]
    }
   ],
   "source": [
    "password = \"Ram12\"\n",
    "strength = evaluate_password_strength(password)\n",
    "print(f\"The strength of the password '{password}' is: {strength}/10\")"
   ]
  },
  {
   "cell_type": "code",
   "execution_count": 4,
   "id": "0ae150ad",
   "metadata": {},
   "outputs": [
    {
     "name": "stdout",
     "output_type": "stream",
     "text": [
      "The strength of the password 'Saurabhkumarverma' is: 8/10\n"
     ]
    }
   ],
   "source": [
    "password = \"Saurabhkumarverma\"\n",
    "strength = evaluate_password_strength(password)\n",
    "print(f\"The strength of the password '{password}' is: {strength}/10\")"
   ]
  }
 ],
 "metadata": {
  "kernelspec": {
   "display_name": "Python 3 (ipykernel)",
   "language": "python",
   "name": "python3"
  },
  "language_info": {
   "codemirror_mode": {
    "name": "ipython",
    "version": 3
   },
   "file_extension": ".py",
   "mimetype": "text/x-python",
   "name": "python",
   "nbconvert_exporter": "python",
   "pygments_lexer": "ipython3",
   "version": "3.11.3"
  }
 },
 "nbformat": 4,
 "nbformat_minor": 5
}
